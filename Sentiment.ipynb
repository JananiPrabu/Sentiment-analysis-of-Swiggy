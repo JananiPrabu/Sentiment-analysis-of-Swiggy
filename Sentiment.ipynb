{
 "cells": [
  {
   "cell_type": "code",
   "execution_count": 12,
   "metadata": {},
   "outputs": [],
   "source": [
    "import random\n",
    "import nltk\n",
    "from nltk.tokenize import sent_tokenize,word_tokenize\n",
    "from nltk.probability import FreqDist\n",
    "from nltk.tokenize import RegexpTokenizer\n",
    "import re\n",
    "import string\n",
    "from nltk.corpus import stopwords\n",
    "from sklearn.feature_extraction.text import TfidfVectorizer\n",
    "from sklearn.model_selection import train_test_split\n",
    "import pandas as pd"
   ]
  },
  {
   "cell_type": "code",
   "execution_count": 13,
   "metadata": {},
   "outputs": [
    {
     "name": "stdout",
     "output_type": "stream",
     "text": [
      "[nltk_data] Downloading package punkt to\n",
      "[nltk_data]     C:\\Users\\Venkat\\AppData\\Roaming\\nltk_data...\n",
      "[nltk_data]   Package punkt is already up-to-date!\n",
      "[nltk_data] Downloading package stopwords to\n",
      "[nltk_data]     C:\\Users\\Venkat\\AppData\\Roaming\\nltk_data...\n",
      "[nltk_data]   Package stopwords is already up-to-date!\n"
     ]
    },
    {
     "data": {
      "text/plain": [
       "True"
      ]
     },
     "execution_count": 13,
     "metadata": {},
     "output_type": "execute_result"
    }
   ],
   "source": [
    "nltk.download('punkt')\n",
    "nltk.download('stopwords')\n"
   ]
  },
  {
   "cell_type": "code",
   "execution_count": 15,
   "metadata": {},
   "outputs": [
    {
     "data": {
      "text/html": [
       "<div>\n",
       "<style scoped>\n",
       "    .dataframe tbody tr th:only-of-type {\n",
       "        vertical-align: middle;\n",
       "    }\n",
       "\n",
       "    .dataframe tbody tr th {\n",
       "        vertical-align: top;\n",
       "    }\n",
       "\n",
       "    .dataframe thead th {\n",
       "        text-align: right;\n",
       "    }\n",
       "</style>\n",
       "<table border=\"1\" class=\"dataframe\">\n",
       "  <thead>\n",
       "    <tr style=\"text-align: right;\">\n",
       "      <th></th>\n",
       "      <th>Reviews</th>\n",
       "      <th>Sentiment</th>\n",
       "    </tr>\n",
       "  </thead>\n",
       "  <tbody>\n",
       "    <tr>\n",
       "      <th>0</th>\n",
       "      <td>Inaccurate and delayed Customer care service f...</td>\n",
       "      <td>NaN</td>\n",
       "    </tr>\n",
       "    <tr>\n",
       "      <th>1</th>\n",
       "      <td>This app sucks when it comes to apply coupon a...</td>\n",
       "      <td>NaN</td>\n",
       "    </tr>\n",
       "    <tr>\n",
       "      <th>2</th>\n",
       "      <td>Now a days if any missing items, there are no ...</td>\n",
       "      <td>NaN</td>\n",
       "    </tr>\n",
       "    <tr>\n",
       "      <th>3</th>\n",
       "      <td>The overall app is quite good, I have been fac...</td>\n",
       "      <td>NaN</td>\n",
       "    </tr>\n",
       "    <tr>\n",
       "      <th>4</th>\n",
       "      <td>Horrible experience... Showing false rates...R...</td>\n",
       "      <td>NaN</td>\n",
       "    </tr>\n",
       "  </tbody>\n",
       "</table>\n",
       "</div>"
      ],
      "text/plain": [
       "                                             Reviews  Sentiment\n",
       "0  Inaccurate and delayed Customer care service f...        NaN\n",
       "1  This app sucks when it comes to apply coupon a...        NaN\n",
       "2  Now a days if any missing items, there are no ...        NaN\n",
       "3  The overall app is quite good, I have been fac...        NaN\n",
       "4  Horrible experience... Showing false rates...R...        NaN"
      ]
     },
     "execution_count": 15,
     "metadata": {},
     "output_type": "execute_result"
    }
   ],
   "source": [
    "file_path = r\"C:\\Users\\Venkat\\Downloads\\Swiggy.csv\"\n",
    "\n",
    "rev_df = pd.read_csv(file_path, names = [\"Reviews\", \"Sentiment\"])\n",
    "rev_df.head()"
   ]
  },
  {
   "cell_type": "code",
   "execution_count": 16,
   "metadata": {},
   "outputs": [
    {
     "data": {
      "text/plain": [
       "{0: 'Positive', 1: 'Negative', 2: 'Neutral'}"
      ]
     },
     "execution_count": 16,
     "metadata": {},
     "output_type": "execute_result"
    }
   ],
   "source": [
    "sentiments = {0:\"Positive\", 1:\"Negative\", 2:\"Neutral\"}\n",
    "sentiments\n"
   ]
  },
  {
   "cell_type": "code",
   "execution_count": 17,
   "metadata": {},
   "outputs": [],
   "source": [
    "for i in range(len(rev_df)):\n",
    "    label = random.randint(0,2)\n",
    "    rev_df.iloc[i,1] = sentiments.get(label)\n",
    "    rev_df.iloc[i,0] = re.sub('\\W+', ' ', rev_df.iloc[i,0]).lower()   \n",
    "    "
   ]
  },
  {
   "cell_type": "code",
   "execution_count": 18,
   "metadata": {},
   "outputs": [],
   "source": [
    "X = rev_df.iloc[:,0].values\n",
    "y = rev_df.iloc[:,1].values"
   ]
  },
  {
   "cell_type": "code",
   "execution_count": 23,
   "metadata": {},
   "outputs": [
    {
     "data": {
      "text/plain": [
       "array(['inaccurate and delayed customer care service functionality is intentioanlly created some time in chat help there shows no icon and tab of chat now ',\n",
       "       'this app sucks when it comes to apply coupon and payment links i applied coupon and tried to pay thru bhim and it got stucked when i tried to apply coupon again i am unable to use it',\n",
       "       'now a days if any missing items there are no refunds customer executive are telling us to send email to support team and support team reply back we are investigate that s it after that there is no response or revert for any emails ',\n",
       "       'the overall app is quite good i have been facing issues with coupons on applying a coupon i would get a success message but it will not be reflected in the bill the support chat was not helpful as they just said that the coupon was never applied this happened a few times when i did take screen',\n",
       "       'horrible experience showing false rates rs10 15 difference than original menu in the hotel i ve checked it personally cheating ',\n",
       "       'everything is good but they need to develop the payment method i always have faced a problem of transaction through upi ',\n",
       "       'app is not functioning when it comes to the payment stage ',\n",
       "       'help section in the app is useless there aren t enough help topics to address issues and to make it worse there is no way to call them unless certain chat flow is triggered backorder communication is slow operations is not able to deal with heavy weekend demands every weekend there is an unexp',\n",
       "       'network problem once it shows home delivery is available in next second it shows un available confused n waste of time ',\n",
       "       'in pop if one restaurant has multiple branches the branch location is not specified and we are not able to choose the branch',\n",
       "       'hey swiggy team after using it for nearly 2 years i am facing issue which i never faced her are the details of issue i select the food go to cart apply the coupon and then go for payment using upi it try to open the app and hangs and crashes now here is the crazy part now if go again to cart',\n",
       "       'at first it was all good but few days back i faced a problem regarding the delivery address the delivery boys who reached wrong address what i haven t mentioned yet saying the address correctly but reached the wrong address they suggested me to reinstall the app and mentioned the problem as',\n",
       "       'for swiggy go booking unable to open a location from third party app like what s app and telegram and you maps are very tiny to locate address and drop a pin with no land marks listed making it impossible to point address and location we want please get it corrected ',\n",
       "       'i open the app and it updates my location to an address in bombay when i m in bangalore ordering food it s been very buggy of late pages don t load many times i get shown the interface saying that oops retry best minds are on it customer service is bad messages don t deliver on real time v',\n",
       "       'this app is tooo bad bcoz the timing is bad in this situation are commonly so i am gotta from membership ',\n",
       "       '1 swiggy delivery executives still call unnecessarily even when the location is correct and prominent even after repeated feedbacks 2 the app very frequently chooses wrong location gps needs to be improved 3 ocassionally payment fails when repeating it skips the used coupon but won t allows t',\n",
       "       '1 the app does not show reviews of the restaurant 2 if we want to search our past orders then we have to just scroll through them there is no way to search through them 3 swiggy does not give a damn about your special instructions and even if you call them they only tell that we will try to imp',\n",
       "       'it used to be pretty good but now delivery is taking too long due to technical issues',\n",
       "       'hi swiggy team earlier swiggy was working fine but from the past month i am unable to open any restaurant in my app in redmi kote 7 pro i mean app gets opened and i see its home page whenever i click on any restaurant it doesn t takes me inside and keeps on loading can your tech team resolve t',\n",
       "       'very faulty app be careful when ur payment fails system will remove ur applied coupon and when u repay using another method u will be charged full if amount havnt noticed they charge delivery taxes and top of it 30 from restaurants as well resulting customer will be paying all these charges ',\n",
       "       'it used to be quite versatile and unique options of restaurants available as compared to other food apps but now it hardly delivers food on time i usually get food in 45 minutes and dat too after call to swiggy it s standard has fallen down going uninstall it soon ',\n",
       "       'the experience was horrible i have already used this app in my old phone with the registered email of mine but as i changed my phone i didn t use my email again on swiggy it shows that the email is already exist and m not able to login on swiggy ',\n",
       "       'if you have multiple addresses the app fails to consider the address chosen while placing the order it keeps taking one address as default and shows that to delivery person as a result there is a lot of confusion and frustration ',\n",
       "       'inserting address is so complicated if the app can access location why u need to drag it manually moreover delivery person denied to come 1 km away explaining that company does not pay for that i have to collect it manually i dont know why usage of technology makes life complicated ',\n",
       "       'in terms of ordering food zomato is much friendly app because we can see what people think about that food by seeing their ratings and comments swiggy should provide this feature and one feature i want is to share the pics of what we recive sometimes what we order and what we receive are total',\n",
       "       'day light cheating customers convenient for ordering food but prices are inflated as compared to the actuals i would prefer to pick self rather than ordering on this app only good in case the restaurant is far and there is no other alternative available ',\n",
       "       'bad experience i try many times to use this app but it is not working in our area always show network connection error although network is good zomato is working properly but swiggy not in same area all time buffring buffring buffring only buffering ',\n",
       "       'after the latest update the app does not display properly all i see is a blank page ',\n",
       "       'i m facing an issue with login to my account i had reinstalled the app and now i m not able to login to my account with my mobile number which i have used earlier the app is taking me to the sign up screen whenever i try to login by giving my account mobile number facing this issue for the fi',\n",
       "       'some of the screens that should minimize do not minimize the google map appears in a small strip and does not expand on the phone screen the delivery time is changed arbitrarily if that happens free cancellation is not allowed',\n",
       "       'food menu list are not updated online regularly if we order and the shop telling this order not available ',\n",
       "       'not for the app but the way the support team is crappy i received an uncooked food for which i had a chat and they say to send an email what is the purpose of having chat support than it wasn t first time i had issues with the food quality everytime they ask us to send emails but none ge',\n",
       "       'this app must development more because when i am going to change my name any option is not available to change the name it s most useful for food order so add that option so that we can change the name according to convenience ',\n",
       "       'though i like the app i have this one complaint that you guys don t put up the address of the restaurant which makes it difficult when there are 2 3 restaurants with the same name kindly look into this it s been a bad experience because of it ',\n",
       "       'your latest update is very interesting first you took away the feature in the app that allowed users to chat regarding assigning of a delivery executive secondly most orders in swiggy are delayed these days if a customer cancels an order due to delay in delivery your fault in the first place and',\n",
       "       'i am really fed up with swiggy i bought swiggy super for 3 months now now swiggy has stopped its service in our area n also the chat option is useless i have forward the screenshot so many times but no response has come also swiggy is not refunding my money of super swiggy as i m not able to',\n",
       "       'app doesn t update actual status of order order was picked up but still reflected your food is being prepared even when order was delivered the status was the same completely misleading delivery agent couldn t be reached for quite a while phone was constantly busy so was completely unawa',\n",
       "       'updating the address is very challenging when u want to order something for some1 else and the map doesn t even support location horrible experience on updating address i just wish instead of location it s more easy if u also give the option to follow address and area',\n",
       "       'my app hasn t been working for the past 2 days it just keeps glitching earlier i was debited for an order that apparently failed and now it isn t even working its updated to the latest version yet this problem continues ',\n",
       "       'nice app very user friendly but after my first order my app didn t worked got crash while opening i have send the feedback with screenshots ',\n",
       "       'once i logout and cannot login again so plz make the app for multi user login or provide a phone no column in delivery address',\n",
       "       'swiggy the app itself is pretty good had few issues with chat in the middle of 2019 but was rectified but recently it seems the customer care bit of swiggy is lacking faced many issues no resolution well long run but time to take my business somewhere else ',\n",
       "       'the current version has issues the screen meant for payment confirmation does not exit even after payment via upi not sure about the rest so i have no choice but to cancel the payment only to find that my order is already placed and the items which are meant to be ordered are also in the cart a',\n",
       "       'at first the app didnt cause any trouble but i am facing the problem of selection of address and payment methods from past few days my location i have saved is rajat path but in the map its taking sodala so the delivery guy is following the map to reach me also i have taken orders with cod but no',\n",
       "       'the app payment system sometimes really sucks the payment was made but still order hasn t been placed then i learnt that the payment got failed so did the transaction again still the same issue happens otherwise the app is good and delivery is also on time ',\n",
       "       'technical team needs to work a lot on this app 100 of bugs in it map need to b updated than payment gateway need to b improved like i ordered food via upi bit swiggy app still waiting for payment confirmation while amount is deducted from my account i know food will be delivered but app nee',\n",
       "       'just like the other day i was in the hospital and i was just 33 and still have my own symptoms of the same symptoms i have been in a few years of being a chronic disease that is very similar and very severe but not quite a lot more serious but it also has to do for a long period or longer and longer',\n",
       "       'unable to upload photos from photos or camera within an issue with order no option comes up to select a pre clicked photo also if clicked with camera option from the new issue page no photo shows in add photo box ',\n",
       "       'app hangs when it s really important no call cta button works delivery agents deliver food without calling to someone else without confirming if it s the right person or not no good synchronisation of location i really had a very bad experience with swiggy and now i should choose something else',\n",
       "       'shows only last couple of orders under previous orders does not allow seeing more older orders doesn t show restaurant addresses at times there are multiple restaurants with same name so difficult to figure out from which restaurant i ordered last time ',\n",
       "       'i am putting an update got transferred to bhubaneswar but the problem remained as usual good restaurants or chains are not there on swiggy but same for zomato is huge swiggy guys you can varify my claim logging in zomato for same address so you guys are just doing enough to ramp up your valuati',\n",
       "       'payments keep failing no matter which payment method i use locks out coupons for 20 minutes while waiting for the unsuccesful payment not sure why this is happening now used to work great before',\n",
       "       'it was a bad experience using this app delivering time is very slow',\n",
       "       'can t change the adress in the app now i have selected home adress as well as work adress but still i am getting out of delivery area ',\n",
       "       'unexpected and unexplained cancellation of orders ',\n",
       "       'poor user experience makes the irtct website a cake walk sad ui',\n",
       "       'useful app but very badly designed and poor performance ',\n",
       "       'i am not happy with this app the only reason is that they never give any coupon on cash on delivery just now i open the app to order something but i found there is no coupon this is very bad and now i dont want to order anything i just want to say that please think about your customers please give s',\n",
       "       'previously the delivery used to be very fast but now everything has slowed down and moreover there are many technical issues with the app ',\n",
       "       'very worst in setting the location and address no other option to link with the current location one the address is saved it s been continuing same even after the changed and no late night services after the confirmation of food order you are refusing the order the customer very sad',\n",
       "       'expensive for delivery showing low price at order and high price in cart',\n",
       "       'the app is slow amd breaking down it has more oops moments than wow experience search button and order status tracking and many more transactions are failing and i use highend android phine',\n",
       "       'quite bad from last couple of orders as the address saved in app are not working no resolution has been provided got the money deducted as well for making online payment in advance really not sure how to handle this anymore',\n",
       "       'gps has never captured the given address or never been able to pin the location everytime have to contact the chat center or call the deliver person to direct the location ',\n",
       "       'when the app is in multi window and you open the app it shows feedback window of last order please fix this bug asap ',\n",
       "       'the app clearly cannot handle its traffic you have to force kill the app all the time to update the delivery guys location even that doesn t work all the time you d have to probably repeat this several times ',\n",
       "       'bad ui have to enter my address many times also could not change it from other to home it shows as delivery to other ',\n",
       "       'poor app performance most of the time not able to manage the cart items also no updates pending ',\n",
       "       'the feed doesn t even get loaded sometimes and causes problem during urgency fix this ',\n",
       "       'now a days swiggy app getting frequent problems like the location of delivery executive is inaccurate or the location itself showing error some time throwing error while viewing cart etc',\n",
       "       'the app was working good till last week but i haven t been able to make payment using my card and am receiving the message as payment failed ',\n",
       "       'while ordering it shows will be delivery in 35 mins and after ordering it shows will be delivered in 54 mins and customer support team are very brilliant after chating and escalating the issues they says no no it was correct and after making changes according to their favour and asks us the scree',\n",
       "       'payment fails 9 out of 10 times when i use google pay please fix the issue ',\n",
       "       'not all that quick only nearby restuants are available',\n",
       "       'the app closes abruptly and many times shows error this has been happening for past 1 month',\n",
       "       'i dont really prefer this app it is always having issues and order delivery is also very slow usually they show hiked prices for dishes and provide offers ',\n",
       "       'i used to be a regular at this app but now they take absolutely no responsibility even when a restaurant gives rotten food so i only use it when there is no other way but i do remember the time when they would offer a refund or even better a replacement meal i hope they go back to those polic',\n",
       "       'ordering food in the app is very good but the delivery time is too bad sometimes it shows 30 minutes and after a while it becomes 34 minutes waiting time is increasing while it should be decreased it s saying on time delivery by swiggy ',\n",
       "       'app seems to be purposely made to send otp several times and dint accepted that meanwhile the offer as welcome50 expired its a kinda cheating for sure',\n",
       "       'no option to change the address location shows different even been pin pointed in the map ',\n",
       "       'i have been noticing that swiggy changes the address randomly it s very irritating when you want to order food at one address and realise that the food is going to another address ',\n",
       "       'previously applied coupon does not apply in real time if payment failed for previous order it should be real time check if order failed the should be allowed to apply coupon instantly ',\n",
       "       'discounts should be more better prices what u quote on the app are already been hiked up by the prices mentioned by the restaurants on their menu cards so stop fooling around with consumers ',\n",
       "       'not so good experiences overall problem handling is too lame and no immediate solution ',\n",
       "       'whenever i pay through upi i have to wait for whole 5 min to get the confirmation even though the payment is done instantly please fix this ',\n",
       "       'i signed in using another number and your detail tracking has picked up random data regarding address and even after entering the correct address if it s going to a wrong address how it s my fault and when cancelling i m charged 50 of the value now i receive a msg that my refund is complete but th',\n",
       "       'not able to login even after trying so so many time eventually had to move to zomat ',\n",
       "       'very slow response even after updating play services it doesn t display the location ',\n",
       "       'the coupon code does not get applied on cod the update that swiggy has done makes it request you guys to update it again ',\n",
       "       'hey i recently changed from my old apartment and i entered the address but the location it s showing is wrong i changed it so many time but it didn t work',\n",
       "       'firstly i have given this app 5star and i m using it over 2years but as now it is taking delivery charges including restaurant chargers really disappointed swiggy the cost of additional charges are more than food cost ',\n",
       "       'address selection is not good address display fonts or styles are not appealing leads in choosing wrong address',\n",
       "       'with recent update and change app got worst payment gets fail again and again even after changing payment mode ',\n",
       "       'chat option not at all working and unable to reach customer service ',\n",
       "       'live tracking is horrible location is just bumping from one place to another no real time update ',\n",
       "       'still inefficeient delivery system app chose to deliver my food from a further branch restau rant also faced problems entering coupon codes hope swiggy improves these bugs ',\n",
       "       'good but always having difficulty while paying always have to refresh',\n",
       "       'you need to give proper address of the restaurant before placing the order many of them are in same name in same area why don t you look at this ',\n",
       "       'whole menu of restaurant is not available and it shows more coupons when not signed in but after signing in no coupons are available',\n",
       "       'i m facing problem changing my mobile number the number which i used 6 month back why i can t restore that same number ',\n",
       "       'the payment option doesn t work well and shows error all the time',\n",
       "       'payment slow and no cancel option when payment failed',\n",
       "       'it is a good app but the rates are high then the original rate and they take extra charges for delivery also',\n",
       "       'didn t have a good experience with swiggy services all the time i place an order it somehow picks some random spots apart from the address i mentioned and still there is no option to provide mobile number in address what if i m placing an order for some of my friends who are in different cities ',\n",
       "       'unable to login to swiggy app it is showing too many login attempts on this device ',\n",
       "       'gives heavy and interesting notifications for marketing but worst customer support never give a proper solution to any issue',\n",
       "       'before logging out it was good but after logging out login shows me signup page cant login inside',\n",
       "       'delivery charge is little higher speed is good but any ways i like this app'],\n",
       "      dtype=object)"
      ]
     },
     "execution_count": 23,
     "metadata": {},
     "output_type": "execute_result"
    }
   ],
   "source": [
    "X"
   ]
  },
  {
   "cell_type": "code",
   "execution_count": 21,
   "metadata": {},
   "outputs": [
    {
     "data": {
      "text/plain": [
       "array(['Negative', 'Positive', 'Neutral', 'Positive', 'Neutral',\n",
       "       'Negative', 'Neutral', 'Negative', 'Neutral', 'Neutral',\n",
       "       'Negative', 'Positive', 'Neutral', 'Negative', 'Neutral',\n",
       "       'Neutral', 'Neutral', 'Positive', 'Neutral', 'Neutral', 'Neutral',\n",
       "       'Negative', 'Neutral', 'Neutral', 'Negative', 'Positive',\n",
       "       'Negative', 'Positive', 'Negative', 'Negative', 'Positive',\n",
       "       'Negative', 'Negative', 'Positive', 'Positive', 'Neutral',\n",
       "       'Neutral', 'Neutral', 'Negative', 'Negative', 'Neutral',\n",
       "       'Positive', 'Negative', 'Negative', 'Negative', 'Neutral',\n",
       "       'Neutral', 'Positive', 'Neutral', 'Positive', 'Negative',\n",
       "       'Negative', 'Positive', 'Positive', 'Negative', 'Positive',\n",
       "       'Negative', 'Neutral', 'Positive', 'Negative', 'Negative',\n",
       "       'Negative', 'Positive', 'Neutral', 'Neutral', 'Negative',\n",
       "       'Neutral', 'Negative', 'Negative', 'Neutral', 'Positive',\n",
       "       'Neutral', 'Neutral', 'Positive', 'Positive', 'Positive',\n",
       "       'Positive', 'Negative', 'Negative', 'Positive', 'Positive',\n",
       "       'Neutral', 'Negative', 'Negative', 'Positive', 'Neutral',\n",
       "       'Neutral', 'Neutral', 'Negative', 'Negative', 'Neutral',\n",
       "       'Positive', 'Negative', 'Negative', 'Negative', 'Neutral',\n",
       "       'Neutral', 'Negative', 'Positive', 'Negative', 'Neutral',\n",
       "       'Neutral', 'Negative', 'Positive', 'Neutral', 'Positive',\n",
       "       'Negative', 'Negative'], dtype=object)"
      ]
     },
     "execution_count": 21,
     "metadata": {},
     "output_type": "execute_result"
    }
   ],
   "source": [
    "y"
   ]
  },
  {
   "cell_type": "code",
   "execution_count": 24,
   "metadata": {},
   "outputs": [],
   "source": [
    "tfidfconverter = TfidfVectorizer(max_features = 2000, min_df = 2, max_df = 0.7, stop_words = stopwords.words('english'))\n",
    "x = tfidfconverter.fit_transform(X).toarray()\n",
    " \n"
   ]
  },
  {
   "cell_type": "code",
   "execution_count": 25,
   "metadata": {},
   "outputs": [
    {
     "data": {
      "text/plain": [
       "TfidfVectorizer(analyzer='word', binary=False, decode_error='strict',\n",
       "        dtype=<class 'numpy.int64'>, encoding='utf-8', input='content',\n",
       "        lowercase=True, max_df=0.7, max_features=2000, min_df=2,\n",
       "        ngram_range=(1, 1), norm='l2', preprocessor=None, smooth_idf=True,\n",
       "        stop_words=['i', 'me', 'my', 'myself', 'we', 'our', 'ours', 'ourselves', 'you', \"you're\", \"you've\", \"you'll\", \"you'd\", 'your', 'yours', 'yourself', 'yourselves', 'he', 'him', 'his', 'himself', 'she', \"she's\", 'her', 'hers', 'herself', 'it', \"it's\", 'its', 'itself', 'they', 'them', 'their', 'theirs',... 'shouldn', \"shouldn't\", 'wasn', \"wasn't\", 'weren', \"weren't\", 'won', \"won't\", 'wouldn', \"wouldn't\"],\n",
       "        strip_accents=None, sublinear_tf=False,\n",
       "        token_pattern='(?u)\\\\b\\\\w\\\\w+\\\\b', tokenizer=None, use_idf=True,\n",
       "        vocabulary=None)"
      ]
     },
     "execution_count": 25,
     "metadata": {},
     "output_type": "execute_result"
    }
   ],
   "source": [
    "tfidfconverter "
   ]
  },
  {
   "cell_type": "code",
   "execution_count": 26,
   "metadata": {},
   "outputs": [
    {
     "data": {
      "text/plain": [
       "array([[0., 0., 0., ..., 0., 0., 0.],\n",
       "       [0., 0., 0., ..., 0., 0., 0.],\n",
       "       [0., 0., 0., ..., 0., 0., 0.],\n",
       "       ...,\n",
       "       [0., 0., 0., ..., 0., 0., 0.],\n",
       "       [0., 0., 0., ..., 0., 0., 0.],\n",
       "       [0., 0., 0., ..., 0., 0., 0.]])"
      ]
     },
     "execution_count": 26,
     "metadata": {},
     "output_type": "execute_result"
    }
   ],
   "source": [
    "x"
   ]
  },
  {
   "cell_type": "code",
   "execution_count": 27,
   "metadata": {},
   "outputs": [],
   "source": [
    "X_train, X_test, y_train, y_test = train_test_split(x, y, test_size = 0.2, random_state = 0)\n",
    "\n"
   ]
  },
  {
   "cell_type": "code",
   "execution_count": 32,
   "metadata": {},
   "outputs": [
    {
     "data": {
      "text/plain": [
       "array(['Positive', 'Negative', 'Positive', 'Neutral', 'Negative',\n",
       "       'Neutral', 'Negative', 'Negative', 'Neutral', 'Neutral',\n",
       "       'Negative', 'Neutral', 'Neutral', 'Negative', 'Positive',\n",
       "       'Positive', 'Negative', 'Positive', 'Neutral', 'Negative',\n",
       "       'Positive', 'Neutral'], dtype=object)"
      ]
     },
     "execution_count": 32,
     "metadata": {},
     "output_type": "execute_result"
    }
   ],
   "source": [
    "y_test"
   ]
  },
  {
   "cell_type": "code",
   "execution_count": 34,
   "metadata": {},
   "outputs": [
    {
     "data": {
      "text/plain": [
       "array(['Neutral', 'Neutral', 'Neutral', 'Negative', 'Positive',\n",
       "       'Negative', 'Negative', 'Neutral', 'Neutral', 'Negative',\n",
       "       'Negative', 'Neutral', 'Neutral', 'Neutral', 'Negative',\n",
       "       'Negative', 'Negative', 'Positive', 'Positive', 'Negative',\n",
       "       'Negative', 'Negative'], dtype=object)"
      ]
     },
     "execution_count": 34,
     "metadata": {},
     "output_type": "execute_result"
    }
   ],
   "source": [
    "from sklearn.ensemble import RandomForestClassifier\n",
    "\n",
    "text_classifier = RandomForestClassifier(n_estimators = 100, random_state = 0)\n",
    "\n",
    "text_classifier.fit(X_train,y_train)\n",
    "\n",
    "predictions = text_classifier.predict(X_test)\n",
    "\n",
    "predictions\n",
    "\n"
   ]
  },
  {
   "cell_type": "code",
   "execution_count": 36,
   "metadata": {},
   "outputs": [
    {
     "data": {
      "text/plain": [
       "0.36363636363636365"
      ]
     },
     "execution_count": 36,
     "metadata": {},
     "output_type": "execute_result"
    }
   ],
   "source": [
    "from sklearn.metrics import classification_report, accuracy_score\n",
    "\n",
    "report = classification_report(y_test, predictions)\n",
    "accuracy = accuracy_score(y_test, predictions)\n",
    "accuracy"
   ]
  },
  {
   "cell_type": "code",
   "execution_count": 37,
   "metadata": {},
   "outputs": [
    {
     "data": {
      "text/plain": [
       "0.4090909090909091"
      ]
     },
     "execution_count": 37,
     "metadata": {},
     "output_type": "execute_result"
    }
   ],
   "source": [
    "from sklearn.naive_bayes import MultinomialNB\n",
    "\n",
    "nb_classifier = MultinomialNB()\n",
    "nb_classifier.fit(X_train, y_train)\n",
    "\n",
    "predictions_nb = nb_classifier.predict(X_test)\n",
    "\n",
    "accuracy = accuracy_score(y_test, predictions_nb)\n",
    "\n",
    "accuracy"
   ]
  },
  {
   "cell_type": "code",
   "execution_count": null,
   "metadata": {},
   "outputs": [],
   "source": []
  }
 ],
 "metadata": {
  "kernelspec": {
   "display_name": "Python 3",
   "language": "python",
   "name": "python3"
  },
  "language_info": {
   "codemirror_mode": {
    "name": "ipython",
    "version": 3
   },
   "file_extension": ".py",
   "mimetype": "text/x-python",
   "name": "python",
   "nbconvert_exporter": "python",
   "pygments_lexer": "ipython3",
   "version": "3.6.4"
  }
 },
 "nbformat": 4,
 "nbformat_minor": 2
}
